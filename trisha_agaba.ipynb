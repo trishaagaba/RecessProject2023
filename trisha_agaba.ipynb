{
 "cells": [
  {
   "cell_type": "code",
   "execution_count": 4,
   "metadata": {},
   "outputs": [],
   "source": [
    "import numpy as np\n",
    "import pandas as pd\n",
    "\n",
    "db= pd.read_csv(\"mine.csv\")\n",
    "db2=pd.read_csv(\"Work.csv\")"
   ]
  },
  {
   "cell_type": "code",
   "execution_count": 5,
   "metadata": {},
   "outputs": [
    {
     "name": "stdout",
     "output_type": "stream",
     "text": [
      "   Duration  Pulse  Maxpulse  Calories\n",
      "0        60    110       130     409.1\n",
      "1        60    117       145     479.0\n",
      "2        60    103       135     340.0\n",
      "3        45    109       175     282.4\n",
      "4        45    117       148     406.0\n",
      "     Name         city  age py-score\n",
      "0    Emma      Kampala   23       90\n",
      "1  Wilber        Mbale   26       75\n",
      "2   Robin         Gulu   25     mine\n",
      "3   Tevor  Livingstone  NaN       89\n",
      "4    Yeko       Tororo   20       94\n"
     ]
    }
   ],
   "source": [
    "# Accesing each dataset\n",
    "# head-displays the first few rows of the dataset\n",
    "\n",
    "print(db.head())\n",
    "print(db2.head())"
   ]
  },
  {
   "cell_type": "code",
   "execution_count": 6,
   "metadata": {},
   "outputs": [
    {
     "name": "stdout",
     "output_type": "stream",
     "text": [
      "     Duration  Pulse  Maxpulse  Calories\n",
      "164        60    105       140     290.8\n",
      "165        60    110       145     300.0\n",
      "166        60    115       145     310.2\n",
      "167        75    120       150     320.4\n",
      "168        75    125       150     330.4\n",
      "     Name         city    age py-score\n",
      "2   Robin         Gulu     25     mine\n",
      "3   Tevor  Livingstone    NaN       89\n",
      "4    Yeko       Tororo     20       94\n",
      "5  Miriam         Arua  Train      NaN\n",
      "6   Jesca      Mbarara     21       84\n"
     ]
    }
   ],
   "source": [
    "# tail-displays the last few rows\n",
    "print(db.tail())\n",
    "print(db2.tail())"
   ]
  },
  {
   "cell_type": "code",
   "execution_count": 7,
   "metadata": {},
   "outputs": [
    {
     "name": "stdout",
     "output_type": "stream",
     "text": [
      "<class 'pandas.core.frame.DataFrame'>\n",
      "RangeIndex: 169 entries, 0 to 168\n",
      "Data columns (total 4 columns):\n",
      " #   Column    Non-Null Count  Dtype  \n",
      "---  ------    --------------  -----  \n",
      " 0   Duration  169 non-null    int64  \n",
      " 1   Pulse     169 non-null    int64  \n",
      " 2   Maxpulse  169 non-null    int64  \n",
      " 3   Calories  164 non-null    float64\n",
      "dtypes: float64(1), int64(3)\n",
      "memory usage: 5.4 KB\n",
      "None\n",
      "<class 'pandas.core.frame.DataFrame'>\n",
      "RangeIndex: 7 entries, 0 to 6\n",
      "Data columns (total 4 columns):\n",
      " #   Column    Non-Null Count  Dtype \n",
      "---  ------    --------------  ----- \n",
      " 0   Name      7 non-null      object\n",
      " 1   city      7 non-null      object\n",
      " 2   age       6 non-null      object\n",
      " 3   py-score  6 non-null      object\n",
      "dtypes: object(4)\n",
      "memory usage: 352.0+ bytes\n",
      "None\n"
     ]
    }
   ],
   "source": [
    "# info-provides info about the dataset, datatypes, non-null values\n",
    "\n",
    "print(db.info())\n",
    "\n",
    "print(db2.info())"
   ]
  },
  {
   "cell_type": "code",
   "execution_count": 8,
   "metadata": {},
   "outputs": [],
   "source": [
    "# Cleaning the dataset\n",
    "# dropna-drops any rows with missing values\n",
    "\n",
    "db.dropna(inplace=True)\n",
    "db2.dropna(inplace=True)"
   ]
  },
  {
   "cell_type": "code",
   "execution_count": 9,
   "metadata": {},
   "outputs": [],
   "source": [
    "# fillna- fill any missing values with appropriate values\n",
    "db.fillna(\"value\",inplace=True)\n",
    "db2.fillna(\"value\",inplace=True)"
   ]
  },
  {
   "cell_type": "code",
   "execution_count": 15,
   "metadata": {},
   "outputs": [],
   "source": [
    "# 2.To remove wrong data- define the cretiria for determining wrong data\n",
    "#  and filter the dataset accordingly- using regular expression\n",
    "db2= db2[-db2['age'].str.contains(r'[^0-9]+')]\n",
    "db2= db2[-db2['py-score'].str.contains(r'[^0-9]+')]"
   ]
  },
  {
   "cell_type": "code",
   "execution_count": 16,
   "metadata": {},
   "outputs": [],
   "source": [
    "# Wrong formats-if there are columns w wrong formats eg columns that hv strings instead of int\n",
    "db2['age'] = pd.to_numeric(db2['age'], errors= 'coerce')\n",
    "db2['py-score'] = pd.to_numeric(db2['py-score'], errors= 'coerce')\n"
   ]
  },
  {
   "cell_type": "code",
   "execution_count": 10,
   "metadata": {},
   "outputs": [],
   "source": [
    "# Duplicates\n",
    "db.drop_duplicates(inplace=True)\n",
    "db2.drop_duplicates(inplace=True)"
   ]
  },
  {
   "cell_type": "code",
   "execution_count": 17,
   "metadata": {},
   "outputs": [
    {
     "name": "stdout",
     "output_type": "stream",
     "text": [
      "          Duration     Pulse  Maxpulse  Calories\n",
      "Duration  1.000000 -0.167770 -0.000501  0.923053\n",
      "Pulse    -0.167770  1.000000  0.784994  0.015301\n",
      "Maxpulse -0.000501  0.784994  1.000000  0.195309\n",
      "Calories  0.923053  0.015301  0.195309  1.000000\n",
      "               age  py-score\n",
      "age       1.000000 -0.815891\n",
      "py-score -0.815891  1.000000\n"
     ]
    }
   ],
   "source": [
    "# Perform correlation analysis\n",
    "# btn numerical columns to show the correlation btn variables\n",
    "\n",
    "correlation_matrix = db.corr()\n",
    "print(correlation_matrix)\n",
    "\n",
    "correlation_matrix2 = db2.corr()\n",
    "print(correlation_matrix2)"
   ]
  }
 ],
 "metadata": {
  "kernelspec": {
   "display_name": "base",
   "language": "python",
   "name": "python3"
  },
  "language_info": {
   "codemirror_mode": {
    "name": "ipython",
    "version": 3
   },
   "file_extension": ".py",
   "mimetype": "text/x-python",
   "name": "python",
   "nbconvert_exporter": "python",
   "pygments_lexer": "ipython3",
   "version": "3.9.13"
  },
  "orig_nbformat": 4
 },
 "nbformat": 4,
 "nbformat_minor": 2
}
